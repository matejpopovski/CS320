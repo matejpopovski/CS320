{
 "cells": [
  {
   "cell_type": "code",
   "execution_count": 35,
   "id": "b2dc3813-280f-4a8d-b462-7222b00d6aae",
   "metadata": {},
   "outputs": [],
   "source": [
    "# project: p1\n",
    "# submitter: popovski\n",
    "# partner: none\n",
    "# hours: 3"
   ]
  },
  {
   "cell_type": "code",
   "execution_count": 36,
   "id": "d2c82652-b15c-4818-9819-740dc6129a89",
   "metadata": {},
   "outputs": [],
   "source": [
    "# import statements\n",
    "import pandas"
   ]
  },
  {
   "cell_type": "code",
   "execution_count": 37,
   "id": "23aaa222-68b2-494d-966c-835d65428cad",
   "metadata": {},
   "outputs": [
    {
     "name": "stdout",
     "output_type": "stream",
     "text": [
      "<class 'float'>\n",
      "<class 'int'>\n"
     ]
    }
   ],
   "source": [
    "#Q1\n",
    "print(type(8/3))\n",
    "print(type(8//3))\n",
    "# When we use / we get float, and when we use // we get int."
   ]
  },
  {
   "cell_type": "code",
   "execution_count": 38,
   "id": "1742250f-f2bb-42de-a465-57fa9faa6f31",
   "metadata": {},
   "outputs": [
    {
     "data": {
      "text/plain": [
       "False"
      ]
     },
     "execution_count": 38,
     "metadata": {},
     "output_type": "execute_result"
    }
   ],
   "source": [
    "#Q2\n",
    "\n",
    "x = 4\n",
    "maximum = 15\n",
    "minimum = 5\n",
    "\n",
    "error = False if x > maximum or x < minimum else True # False if x is inside the minimum-to-maximum range\n",
    "error"
   ]
  },
  {
   "cell_type": "code",
   "execution_count": 39,
   "id": "67f2864b-55ae-4a75-a83d-a0b5339de096",
   "metadata": {},
   "outputs": [
    {
     "name": "stdout",
     "output_type": "stream",
     "text": [
      "True\n"
     ]
    }
   ],
   "source": [
    "#Q3\n",
    "\n",
    "word = \"QUOTIDIAN\"\n",
    "suffix_match = True if word[len(word)-3:] == 'IAN' else False# .endswith(...) method not allowed for this question! (practice slicing)\n",
    "# the same as word[-3:]\n",
    "print(suffix_match)\n",
    "\n",
    "# Yes the word does end with IAN."
   ]
  },
  {
   "cell_type": "code",
   "execution_count": 40,
   "id": "6cd21152-6670-4c0f-894e-0dfdc2f18877",
   "metadata": {},
   "outputs": [
    {
     "name": "stdout",
     "output_type": "stream",
     "text": [
      "<class 'float'>\n",
      "0.30000000000000004\n"
     ]
    },
    {
     "data": {
      "text/plain": [
       "False"
      ]
     },
     "execution_count": 40,
     "metadata": {},
     "output_type": "execute_result"
    }
   ],
   "source": [
    "#Q4\n",
    "def check_sum(x , y , sum ):\n",
    "    print(type(x))\n",
    "    print(x + y)\n",
    "    if x + y == sum:\n",
    "        return True\n",
    "    else:\n",
    "        return False\n",
    "check_sum(0.1, 0.2, 0.3)\n"
   ]
  },
  {
   "cell_type": "code",
   "execution_count": 60,
   "id": "dd37c845-1a92-4369-a643-0e74610d5a67",
   "metadata": {},
   "outputs": [
    {
     "name": "stdout",
     "output_type": "stream",
     "text": [
      "formal\n"
     ]
    }
   ],
   "source": [
    "#Q5\n",
    "\n",
    "#check_sum(-1, 1)\n",
    "print(\"formal\")\n",
    "#when missing an argument in the function we get an error"
   ]
  },
  {
   "cell_type": "code",
   "execution_count": 42,
   "id": "1a360a5a-a64b-4638-be28-13f1cc981d46",
   "metadata": {},
   "outputs": [
    {
     "data": {
      "text/plain": [
       "'even'"
      ]
     },
     "execution_count": 42,
     "metadata": {},
     "output_type": "execute_result"
    }
   ],
   "source": [
    "#Q6\n",
    "\n",
    "x = 4\n",
    "if x%2 == 1:\n",
    "    status = \"odd\"\n",
    "elif x%2 == 0:\n",
    "    status = \"even\"\n",
    "else:\n",
    "    status = \"non-integer\"\n",
    "status\n"
   ]
  },
  {
   "cell_type": "code",
   "execution_count": 43,
   "id": "31214905-3cc1-413a-a54a-859752f185c4",
   "metadata": {},
   "outputs": [
    {
     "name": "stdout",
     "output_type": "stream",
     "text": [
      "3\n",
      "4\n",
      "1\n",
      "6\n",
      "neg_sum(nums) =  0\n"
     ]
    }
   ],
   "source": [
    "#Q7\n",
    "\n",
    "nums = [3, 4, 1, 6]\n",
    "for x in nums:\n",
    "    print(x)\n",
    "\n",
    "def neg_sum(list1):\n",
    "    sum1 = 0\n",
    "    for x in list1:\n",
    "        if x < 0:\n",
    "            if sum1 + x <= -20:\n",
    "                break\n",
    "            sum1 = sum1 + x\n",
    "    return sum1        \n",
    "    \n",
    "print('neg_sum(nums) = ', neg_sum(nums))"
   ]
  },
  {
   "cell_type": "code",
   "execution_count": 44,
   "id": "7916aead-1bf5-40c7-851b-fcff799d7e2b",
   "metadata": {},
   "outputs": [
    {
     "data": {
      "text/plain": [
       "-16"
      ]
     },
     "execution_count": 44,
     "metadata": {},
     "output_type": "execute_result"
    }
   ],
   "source": [
    "#Q8\n",
    "neg_sum([-5, 1, -11, -6, 15, -1, 8, 2])"
   ]
  },
  {
   "cell_type": "code",
   "execution_count": 45,
   "id": "9194b1bc-ef5e-460f-969c-d81a949d9638",
   "metadata": {},
   "outputs": [
    {
     "name": "stdout",
     "output_type": "stream",
     "text": [
      "True\n",
      "[[1, 6, 7, 8, {'x': 8, 'y': 5}], [3, 4, 9, {'x': 9, 'y': 2, 'z': 4}], [5, 2, {'x': 3, 'y': 1, 'z': 7, 'w': 6}]]\n"
     ]
    }
   ],
   "source": [
    "#Q9\n",
    "\n",
    "header = [\"A\", \"B\", \"C\"]\n",
    "\n",
    "coord1 = {\"x\": 8, \"y\": 5}\n",
    "coord2 = {\"x\": 9, \"y\": 2, \"z\" : 4}\n",
    "coord3 = {\"x\": 3, \"y\": 1, \"z\" : 7}\n",
    "\n",
    "rows = [\n",
    "    [1, 6, 7, 8, coord1],\n",
    "    [3, 4, 9, coord2],\n",
    "    [5, 2, coord3],\n",
    "]\n",
    "\n",
    "print({\"A\":1, \"B\":2} == {\"B\":2, \"A\":1})\n",
    "\n",
    "coord3[\"w\"] = 6\n",
    "\n",
    "print(rows)\n",
    "\n",
    "# Rows is still a list of lists, where the third element of the third list\n",
    "# now points at a dictionary with + one more element compared to the previous one"
   ]
  },
  {
   "cell_type": "code",
   "execution_count": 46,
   "id": "f71fa270-9664-4d17-a680-74394e365f98",
   "metadata": {},
   "outputs": [
    {
     "data": {
      "text/plain": [
       "8"
      ]
     },
     "execution_count": 46,
     "metadata": {},
     "output_type": "execute_result"
    }
   ],
   "source": [
    "#Q10\n",
    "\n",
    "rows[0][-1][\"x\"]"
   ]
  },
  {
   "cell_type": "code",
   "execution_count": 47,
   "id": "593c5606-9484-422d-b1fe-1d5fe155fcad",
   "metadata": {},
   "outputs": [],
   "source": [
    "#Q11\n",
    "\n",
    "import copy\n",
    "#v2 = ????\n",
    "# v2[0] = 404    # first change\n",
    "# v2[1][1] = 404 # second change\n"
   ]
  },
  {
   "cell_type": "code",
   "execution_count": 48,
   "id": "fe81608f-24c0-4837-b308-4f9f13747b35",
   "metadata": {},
   "outputs": [
    {
     "name": "stdout",
     "output_type": "stream",
     "text": [
      "12\n"
     ]
    }
   ],
   "source": [
    "#Q12\n",
    "\n",
    "# print(rows)\n",
    "# print(header)\n",
    "# print(header.index(\"B\"))\n",
    "# print([header.index(\"B\")])\n",
    "\n",
    "temp = []\n",
    "for x in rows:\n",
    "    #print(x[header.index(\"B\")])\n",
    "    temp.append(x[header.index(\"B\")])\n",
    "\n",
    "print(sum(temp))\n"
   ]
  },
  {
   "cell_type": "code",
   "execution_count": 59,
   "id": "45abab64-b9df-4ba3-8eae-d8d39fa70243",
   "metadata": {},
   "outputs": [
    {
     "name": "stdout",
     "output_type": "stream",
     "text": [
      "lookup B column for a row\n",
      "lookup B column for a row\n",
      "lookup B column for a row\n",
      "[[5, 2, {'x': 3, 'y': 1, 'z': 7, 'w': 6}], [3, 4, 9, {'x': 9, 'y': 2, 'z': 4}], [1, 6, 7, 8, {'x': 8, 'y': 5}]]\n",
      "[[5, 2, {'x': 3, 'y': 1, 'z': 7, 'w': 6}], [3, 4, 9, {'x': 9, 'y': 2, 'z': 4}], [1, 6, 7, 8, {'x': 8, 'y': 5}]]\n"
     ]
    }
   ],
   "source": [
    "#Q13\n",
    "    \n",
    "def get_column_b(row):\n",
    "    print(\"lookup B column for a row\")\n",
    "    return row[header.index(\"B\")]\n",
    "\n",
    "rows.sort(key=get_column_b, reverse=False)\n",
    "print(rows)\n",
    "   \n",
    "    \n",
    "rows.sort(key=lambda row: row[header.index(\"B\")], reverse=False)\n",
    "print(rows)"
   ]
  },
  {
   "cell_type": "code",
   "execution_count": 50,
   "id": "7af8fc84-0cfc-40c9-86d0-3208acec1b54",
   "metadata": {},
   "outputs": [
    {
     "data": {
      "text/plain": [
       "[[5, 2, {'x': 3, 'y': 1, 'z': 7, 'w': 6}],\n",
       " [3, 4, 9, {'x': 9, 'y': 2, 'z': 4}],\n",
       " [1, 6, 7, 8, {'x': 8, 'y': 5}]]"
      ]
     },
     "execution_count": 50,
     "metadata": {},
     "output_type": "execute_result"
    }
   ],
   "source": []
  },
  {
   "cell_type": "code",
   "execution_count": 55,
   "id": "2941a9e8-0374-4428-b3ca-1785ad0e356f",
   "metadata": {},
   "outputs": [
    {
     "ename": "SyntaxError",
     "evalue": "iterable argument unpacking follows keyword argument unpacking (3636092186.py, line 6)",
     "output_type": "error",
     "traceback": [
      "\u001b[0;36m  Cell \u001b[0;32mIn[55], line 6\u001b[0;36m\u001b[0m\n\u001b[0;31m    json.load(fp, *, cls=None, object_hook=None,\u001b[0m\n\u001b[0m              ^\u001b[0m\n\u001b[0;31mSyntaxError\u001b[0m\u001b[0;31m:\u001b[0m iterable argument unpacking follows keyword argument unpacking\n"
     ]
    }
   ],
   "source": [
    "#Q14\n",
    "\n",
    "f = open(\"usd.json\")\n",
    "data = f.read()\n",
    "#data2 = f.load()\n",
    "json.load(fp, *, cls=None, object_hook=None, \n",
    "          parse_float=None, parse_int=None, parse_constant=None, \n",
    "          object_pairs_hook=None, **kw)\n",
    "\n",
    "f.close()\n",
    "\n",
    "print(type(data))\n",
    "print(data[:300] + \"...\")\n",
    "\n"
   ]
  },
  {
   "cell_type": "code",
   "execution_count": 52,
   "id": "95565e86-9985-4a71-b9ae-f1b894846ddd",
   "metadata": {},
   "outputs": [
    {
     "name": "stdout",
     "output_type": "stream",
     "text": [
      "2.5\n",
      "<class 'float'>\n"
     ]
    }
   ],
   "source": [
    "#Q15\n",
    "nan = float(\"nan\")\n",
    "#print(type(nan))\n",
    "\n",
    "def divide(x, y):\n",
    "    try:\n",
    "        return x/y\n",
    "    except ZeroDivisionError:\n",
    "        return nan\n",
    "    \n",
    "print(divide(5, 2))\n",
    "print(type(divide(5, 2)))"
   ]
  },
  {
   "cell_type": "code",
   "execution_count": 53,
   "id": "0a42d431-162b-4a31-8a91-bb85ca119565",
   "metadata": {},
   "outputs": [
    {
     "name": "stdout",
     "output_type": "stream",
     "text": [
      "nan\n",
      "<class 'float'>\n"
     ]
    }
   ],
   "source": [
    "#Q16\n",
    "print(divide(0, 0))\n",
    "print(type(divide(0, 0)))"
   ]
  },
  {
   "cell_type": "code",
   "execution_count": 56,
   "id": "69906b41-87e6-49a6-9e13-cf3e2cbeda33",
   "metadata": {},
   "outputs": [
    {
     "name": "stdout",
     "output_type": "stream",
     "text": [
      "['ACSDT5Y2018.B28001-Data.csv', 'ACSDT5Y2019.B28001-Data.csv', 'ACSDT5Y2020.B28001-Data.csv', 'ACSDT5Y2021.B28001-Data.csv', '.ipynb_checkpoints', 'ACSDT5Y2017.B28001-Data.csv']\n",
      "['2018', '2019', '2020', '2021', '2017']\n",
      "['2017', '2018', '2019', '2020', '2021']\n",
      "2017\n",
      "2018\n",
      "2019\n",
      "2020\n",
      "2021\n"
     ]
    }
   ],
   "source": [
    "#Q17\n",
    "import os \n",
    "\n",
    "years = {}\n",
    "list_of_years = []\n",
    "\n",
    "data = os.listdir(\"home-computers\")\n",
    "print(data)\n",
    "\n",
    "for x in data:\n",
    "    if x.endswith(\".csv\"):\n",
    "        #print(x)\n",
    "        #print(\"----\")\n",
    "        #print(\"first . has index: \", x.index(\".\"))\n",
    "        index = x.index(\".\")\n",
    "        #print(x[index - 4 : index])\n",
    "        list_of_years.append(x[index - 4 : index])\n",
    "print(list_of_years)\n",
    "list_of_years.sort()\n",
    "print(list_of_years)\n",
    "\n",
    "for x in list_of_years:\n",
    "    years[x] = pandas.read_csv(filepath_or_buffer = \n",
    "                \"home-computers/\" + \"ACSDT5Y\" + x + \".B28001-Data.csv\",\n",
    "                skiprows = 1,).set_index(\"Geographic Area Name\")\n",
    "\n",
    "\n",
    "# for x in list_of_years:\n",
    "#     print(data[data.index()])    \n",
    "# z = pandas.read_csv(filepath_or_buffer = \"home-computers/\" + \"ACSDT5Y2018.B28001-Data.csv\",\n",
    "#                  skiprows = 1)\n",
    "# z\n",
    "# print(years[\"2019\"])\n",
    "\n",
    "for key, value in years.items() :\n",
    "    print(key)\n",
    "    \n",
    "#The keys in years are the years from 2017 to 2021.\n",
    "\n",
    "#should they be sorted or no?"
   ]
  },
  {
   "cell_type": "code",
   "execution_count": 57,
   "id": "f04a42d2-723d-4441-801c-2a9835dedd99",
   "metadata": {},
   "outputs": [
    {
     "data": {
      "text/plain": [
       "2401818"
      ]
     },
     "execution_count": 57,
     "metadata": {},
     "output_type": "execute_result"
    }
   ],
   "source": [
    "#Q18\n",
    "\n",
    "df = years[\"2021\"]\n",
    "df.at[\"Wisconsin\", \"Estimate!!Total\"]\n",
    "\n",
    "#also works:\n",
    "#print(years[\"2021\"].at[\"Wisconsin\", \"Estimate!!Total\"])"
   ]
  },
  {
   "cell_type": "code",
   "execution_count": 62,
   "id": "b0a6574e-45f5-412e-a1ef-4e633fcd5fd0",
   "metadata": {},
   "outputs": [
    {
     "name": "stdout",
     "output_type": "stream",
     "text": [
      "<class 'list'>\n"
     ]
    },
    {
     "data": {
      "text/plain": [
       "171194.09615384616"
      ]
     },
     "execution_count": 62,
     "metadata": {},
     "output_type": "execute_result"
    }
   ],
   "source": [
    "#Q19\n",
    "import statistics\n",
    "\n",
    "df = years[\"2021\"]\n",
    "\n",
    "data = df['Estimate!!Total!!No Computer'].tolist()\n",
    "\n",
    "print(type(data))\n",
    "\n",
    "statistics.mean(data)\n"
   ]
  },
  {
   "cell_type": "code",
   "execution_count": 68,
   "id": "f8492999-0440-4d6c-aa31-4607e3e93073",
   "metadata": {},
   "outputs": [
    {
     "data": {
      "text/plain": [
       "105.80758174631693"
      ]
     },
     "execution_count": 68,
     "metadata": {},
     "output_type": "execute_result"
    }
   ],
   "source": [
    "#Q20\n",
    "\n",
    "df2 = years[\"2021\"]\n",
    "\n",
    "data2 = df2[\"Margin of Error!!Total!!No Computer\"].tolist()\n",
    "\n",
    "fraction = []\n",
    "\n",
    "for x in range(len(data)):\n",
    "    fraction.append(data[x]/data2[x])\n",
    "\n",
    "max(fraction)\n",
    "\n",
    "## do I need to find which country is this??"
   ]
  },
  {
   "cell_type": "code",
   "execution_count": 79,
   "id": "0fe0bcd6-5306-4f51-8cb4-4474c5ce7785",
   "metadata": {},
   "outputs": [
    {
     "ename": "KeyError",
     "evalue": "'Estimate!!Total!!No Computerl'",
     "output_type": "error",
     "traceback": [
      "\u001b[0;31m---------------------------------------------------------------------------\u001b[0m",
      "\u001b[0;31mKeyError\u001b[0m                                  Traceback (most recent call last)",
      "File \u001b[0;32m~/.local/lib/python3.10/site-packages/pandas/core/indexes/base.py:3629\u001b[0m, in \u001b[0;36mIndex.get_loc\u001b[0;34m(self, key, method, tolerance)\u001b[0m\n\u001b[1;32m   3628\u001b[0m \u001b[38;5;28;01mtry\u001b[39;00m:\n\u001b[0;32m-> 3629\u001b[0m     \u001b[38;5;28;01mreturn\u001b[39;00m \u001b[38;5;28;43mself\u001b[39;49m\u001b[38;5;241;43m.\u001b[39;49m\u001b[43m_engine\u001b[49m\u001b[38;5;241;43m.\u001b[39;49m\u001b[43mget_loc\u001b[49m\u001b[43m(\u001b[49m\u001b[43mcasted_key\u001b[49m\u001b[43m)\u001b[49m\n\u001b[1;32m   3630\u001b[0m \u001b[38;5;28;01mexcept\u001b[39;00m \u001b[38;5;167;01mKeyError\u001b[39;00m \u001b[38;5;28;01mas\u001b[39;00m err:\n",
      "File \u001b[0;32m~/.local/lib/python3.10/site-packages/pandas/_libs/index.pyx:136\u001b[0m, in \u001b[0;36mpandas._libs.index.IndexEngine.get_loc\u001b[0;34m()\u001b[0m\n",
      "File \u001b[0;32m~/.local/lib/python3.10/site-packages/pandas/_libs/index.pyx:163\u001b[0m, in \u001b[0;36mpandas._libs.index.IndexEngine.get_loc\u001b[0;34m()\u001b[0m\n",
      "File \u001b[0;32mpandas/_libs/hashtable_class_helper.pxi:5198\u001b[0m, in \u001b[0;36mpandas._libs.hashtable.PyObjectHashTable.get_item\u001b[0;34m()\u001b[0m\n",
      "File \u001b[0;32mpandas/_libs/hashtable_class_helper.pxi:5206\u001b[0m, in \u001b[0;36mpandas._libs.hashtable.PyObjectHashTable.get_item\u001b[0;34m()\u001b[0m\n",
      "\u001b[0;31mKeyError\u001b[0m: 'Estimate!!Total!!No Computerl'",
      "\nThe above exception was the direct cause of the following exception:\n",
      "\u001b[0;31mKeyError\u001b[0m                                  Traceback (most recent call last)",
      "Cell \u001b[0;32mIn[79], line 8\u001b[0m\n\u001b[1;32m      5\u001b[0m no_comp_percent \u001b[38;5;241m=\u001b[39m {}\n\u001b[1;32m      7\u001b[0m df \u001b[38;5;241m=\u001b[39m years[\u001b[38;5;124m\"\u001b[39m\u001b[38;5;124m2021\u001b[39m\u001b[38;5;124m\"\u001b[39m]\n\u001b[0;32m----> 8\u001b[0m \u001b[43mdf\u001b[49m\u001b[43m[\u001b[49m\u001b[38;5;124;43m\"\u001b[39;49m\u001b[38;5;124;43mEstimate!!Total!!No Computerl\u001b[39;49m\u001b[38;5;124;43m\"\u001b[39;49m\u001b[43m]\u001b[49m\n\u001b[1;32m     10\u001b[0m \u001b[38;5;66;03m# for state in wisco_adj_states:\u001b[39;00m\n\u001b[1;32m     11\u001b[0m \u001b[38;5;66;03m#     #print(df.at[state, \"Estimate!!Total\"])\u001b[39;00m\n\u001b[1;32m     12\u001b[0m \u001b[38;5;66;03m#     print(df.at[state, \"Estimate!!Total\"])\u001b[39;00m\n\u001b[0;32m   (...)\u001b[0m\n\u001b[1;32m     19\u001b[0m     \n\u001b[1;32m     20\u001b[0m \u001b[38;5;66;03m#print(no_comp_percent)\u001b[39;00m\n",
      "File \u001b[0;32m~/.local/lib/python3.10/site-packages/pandas/core/frame.py:3505\u001b[0m, in \u001b[0;36mDataFrame.__getitem__\u001b[0;34m(self, key)\u001b[0m\n\u001b[1;32m   3503\u001b[0m \u001b[38;5;28;01mif\u001b[39;00m \u001b[38;5;28mself\u001b[39m\u001b[38;5;241m.\u001b[39mcolumns\u001b[38;5;241m.\u001b[39mnlevels \u001b[38;5;241m>\u001b[39m \u001b[38;5;241m1\u001b[39m:\n\u001b[1;32m   3504\u001b[0m     \u001b[38;5;28;01mreturn\u001b[39;00m \u001b[38;5;28mself\u001b[39m\u001b[38;5;241m.\u001b[39m_getitem_multilevel(key)\n\u001b[0;32m-> 3505\u001b[0m indexer \u001b[38;5;241m=\u001b[39m \u001b[38;5;28;43mself\u001b[39;49m\u001b[38;5;241;43m.\u001b[39;49m\u001b[43mcolumns\u001b[49m\u001b[38;5;241;43m.\u001b[39;49m\u001b[43mget_loc\u001b[49m\u001b[43m(\u001b[49m\u001b[43mkey\u001b[49m\u001b[43m)\u001b[49m\n\u001b[1;32m   3506\u001b[0m \u001b[38;5;28;01mif\u001b[39;00m is_integer(indexer):\n\u001b[1;32m   3507\u001b[0m     indexer \u001b[38;5;241m=\u001b[39m [indexer]\n",
      "File \u001b[0;32m~/.local/lib/python3.10/site-packages/pandas/core/indexes/base.py:3631\u001b[0m, in \u001b[0;36mIndex.get_loc\u001b[0;34m(self, key, method, tolerance)\u001b[0m\n\u001b[1;32m   3629\u001b[0m     \u001b[38;5;28;01mreturn\u001b[39;00m \u001b[38;5;28mself\u001b[39m\u001b[38;5;241m.\u001b[39m_engine\u001b[38;5;241m.\u001b[39mget_loc(casted_key)\n\u001b[1;32m   3630\u001b[0m \u001b[38;5;28;01mexcept\u001b[39;00m \u001b[38;5;167;01mKeyError\u001b[39;00m \u001b[38;5;28;01mas\u001b[39;00m err:\n\u001b[0;32m-> 3631\u001b[0m     \u001b[38;5;28;01mraise\u001b[39;00m \u001b[38;5;167;01mKeyError\u001b[39;00m(key) \u001b[38;5;28;01mfrom\u001b[39;00m \u001b[38;5;21;01merr\u001b[39;00m\n\u001b[1;32m   3632\u001b[0m \u001b[38;5;28;01mexcept\u001b[39;00m \u001b[38;5;167;01mTypeError\u001b[39;00m:\n\u001b[1;32m   3633\u001b[0m     \u001b[38;5;66;03m# If we have a listlike key, _check_indexing_error will raise\u001b[39;00m\n\u001b[1;32m   3634\u001b[0m     \u001b[38;5;66;03m#  InvalidIndexError. Otherwise we fall through and re-raise\u001b[39;00m\n\u001b[1;32m   3635\u001b[0m     \u001b[38;5;66;03m#  the TypeError.\u001b[39;00m\n\u001b[1;32m   3636\u001b[0m     \u001b[38;5;28mself\u001b[39m\u001b[38;5;241m.\u001b[39m_check_indexing_error(key)\n",
      "\u001b[0;31mKeyError\u001b[0m: 'Estimate!!Total!!No Computerl'"
     ]
    }
   ],
   "source": [
    "#Q21\n",
    "\n",
    "wisco_adj_states = [\"Illinois\", \"Indiana\", \"Iowa\", \"Michigan\", \n",
    "                    \"Minnesota\", \"Wisconsin\"]\n",
    "no_comp_percent = {}\n",
    "\n",
    "df = years[\"2021\"]\n",
    "df[\"Estimate!!Total!!No Computerl\"]\n",
    "\n",
    "# for state in wisco_adj_states:\n",
    "#     #print(df.at[state, \"Estimate!!Total\"])\n",
    "#     print(df.at[state, \"Estimate!!Total\"])\n",
    "#     #print(df.at[state, \"Estimate!!Total!!No Computerl\"])\n",
    "#     # no_comp_percent[state] = df.at[state, \"Estimate!!Total\"] / \n",
    "#     # df.at[state, \"Estimate!!Total!!No Computerl\"]\n",
    "    \n",
    "    \n",
    "    \n",
    "    \n",
    "#print(no_comp_percent)"
   ]
  },
  {
   "cell_type": "code",
   "execution_count": null,
   "id": "ead821f4-277d-409f-85c9-a2955f57c223",
   "metadata": {},
   "outputs": [],
   "source": []
  }
 ],
 "metadata": {
  "kernelspec": {
   "display_name": "Python 3 (ipykernel)",
   "language": "python",
   "name": "python3"
  },
  "language_info": {
   "codemirror_mode": {
    "name": "ipython",
    "version": 3
   },
   "file_extension": ".py",
   "mimetype": "text/x-python",
   "name": "python",
   "nbconvert_exporter": "python",
   "pygments_lexer": "ipython3",
   "version": "3.10.12"
  }
 },
 "nbformat": 4,
 "nbformat_minor": 5
}
