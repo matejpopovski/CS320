{
 "cells": [
  {
   "cell_type": "code",
   "execution_count": null,
   "id": "b2dc3813-280f-4a8d-b462-7222b00d6aae",
   "metadata": {},
   "outputs": [],
   "source": [
    "# project: p1\n",
    "# submitter: popovski\n",
    "# partner: none\n",
    "# hours: 3"
   ]
  },
  {
   "cell_type": "code",
   "execution_count": null,
   "id": "d2c82652-b15c-4818-9819-740dc6129a89",
   "metadata": {},
   "outputs": [],
   "source": [
    "# import statements\n",
    "import pandas"
   ]
  },
  {
   "cell_type": "code",
   "execution_count": null,
   "id": "23aaa222-68b2-494d-966c-835d65428cad",
   "metadata": {},
   "outputs": [],
   "source": [
    "#Q1\n",
    "x = type(8/3)\n",
    "print(x)\n",
    "#print(type(8//3))\n",
    "# When we use / we get float, and when we use // we get int."
   ]
  },
  {
   "cell_type": "code",
   "execution_count": null,
   "id": "1742250f-f2bb-42de-a465-57fa9faa6f31",
   "metadata": {},
   "outputs": [],
   "source": [
    "#Q2\n",
    "\n",
    "x = 4\n",
    "maximum = 15\n",
    "minimum = 5\n",
    "\n",
    "error = False if x > maximum or x < minimum else True # False if x is inside the minimum-to-maximum range\n",
    "error"
   ]
  },
  {
   "cell_type": "code",
   "execution_count": null,
   "id": "67f2864b-55ae-4a75-a83d-a0b5339de096",
   "metadata": {},
   "outputs": [],
   "source": [
    "#Q3\n",
    "\n",
    "word = \"QUOTIDIAN\"\n",
    "suffix_match = True if word[len(word)-3:] == 'IAN' else False# .endswith(...) method not allowed for this question! (practice slicing)\n",
    "# the same as word[-3:]\n",
    "print(suffix_match)\n",
    "\n",
    "# Yes the word does end with IAN."
   ]
  },
  {
   "cell_type": "code",
   "execution_count": null,
   "id": "6cd21152-6670-4c0f-894e-0dfdc2f18877",
   "metadata": {},
   "outputs": [],
   "source": [
    "#Q4\n",
    "# def check_sum(x=0 , y=0, sum1 = 0):\n",
    "#     #print(type(x))\n",
    "#     print(x + y)\n",
    "#     if x + y == sum1:\n",
    "#         return True\n",
    "#     else:\n",
    "#         return False\n",
    "    \n",
    "# check_sum(0.1, 0.2, 0.3)\n",
    "\n",
    "def check_sum(x=0 , y=0, sum1 = 0):\n",
    "    #print(type(x))\n",
    "    print(x + y)\n",
    "    if round(x + y, 3) == sum1:\n",
    "        return True\n",
    "    else:\n",
    "        return False\n",
    "    \n",
    "check_sum(0.1, 0.2, 0.3)\n"
   ]
  },
  {
   "cell_type": "code",
   "execution_count": null,
   "id": "dd37c845-1a92-4369-a643-0e74610d5a67",
   "metadata": {},
   "outputs": [],
   "source": [
    "#Q5\n",
    "\n",
    "check_sum(-1, 1)"
   ]
  },
  {
   "cell_type": "code",
   "execution_count": null,
   "id": "1a360a5a-a64b-4638-be28-13f1cc981d46",
   "metadata": {},
   "outputs": [],
   "source": [
    "#Q6\n",
    "\n",
    "x = 4\n",
    "if x%2 == 1:\n",
    "    status = \"odd\"\n",
    "elif x%2 == 0:\n",
    "    status = \"even\"\n",
    "else:\n",
    "    status = \"non-integer\"\n",
    "status\n"
   ]
  },
  {
   "cell_type": "code",
   "execution_count": null,
   "id": "31214905-3cc1-413a-a54a-859752f185c4",
   "metadata": {},
   "outputs": [],
   "source": [
    "#Q7\n",
    "\n",
    "nums = [3, 4, 1, 6]\n",
    "for x in nums:\n",
    "    print(x)\n",
    "\n",
    "def neg_sum(list1):\n",
    "    sum1 = 0\n",
    "    for x in list1:\n",
    "        if x < 0:\n",
    "            if sum1 + x <= -20:\n",
    "                break\n",
    "            sum1 = sum1 + x\n",
    "    return sum1        \n",
    "    \n",
    "print('neg_sum(nums) = ', neg_sum(nums))"
   ]
  },
  {
   "cell_type": "code",
   "execution_count": null,
   "id": "7916aead-1bf5-40c7-851b-fcff799d7e2b",
   "metadata": {},
   "outputs": [],
   "source": [
    "#Q8\n",
    "neg_sum([-5, 1, -11, -6, 15, -1, 8, 2])"
   ]
  },
  {
   "cell_type": "code",
   "execution_count": null,
   "id": "9194b1bc-ef5e-460f-969c-d81a949d9638",
   "metadata": {},
   "outputs": [],
   "source": [
    "#Q9\n",
    "\n",
    "header = [\"A\", \"B\", \"C\"]\n",
    "\n",
    "coord1 = {\"x\": 8, \"y\": 5}\n",
    "coord2 = {\"x\": 9, \"y\": 2, \"z\" : 4}\n",
    "coord3 = {\"x\": 3, \"y\": 1, \"z\" : 7}\n",
    "\n",
    "rows = [\n",
    "    [1, 6, 7, 8, coord1],\n",
    "    [3, 4, 9, coord2],\n",
    "    [5, 2, coord3],\n",
    "]\n",
    "\n",
    "print({\"A\":1, \"B\":2} == {\"B\":2, \"A\":1})\n",
    "\n",
    "coord3[\"w\"] = 6\n",
    "\n",
    "print(rows)\n",
    "\n",
    "# Rows is still a list of lists, where the third element of the third list\n",
    "# now points at a dictionary with + one more element compared to the previous one"
   ]
  },
  {
   "cell_type": "code",
   "execution_count": null,
   "id": "f71fa270-9664-4d17-a680-74394e365f98",
   "metadata": {},
   "outputs": [],
   "source": [
    "#Q10\n",
    "\n",
    "rows[0][-1][\"x\"]"
   ]
  },
  {
   "cell_type": "code",
   "execution_count": null,
   "id": "593c5606-9484-422d-b1fe-1d5fe155fcad",
   "metadata": {},
   "outputs": [],
   "source": [
    "#Q11\n",
    "import copy\n",
    "\n",
    "print(rows)\n",
    "v2 = copy.copy(rows)\n",
    "v2[0] = 404    # first change\n",
    "print(rows)\n",
    "print(v2)\n",
    "v2 = copy.deepcopy(rows)\n",
    "v2[1][1] = 404 # second change\n",
    "print(rows)\n",
    "print(v2)"
   ]
  },
  {
   "cell_type": "code",
   "execution_count": null,
   "id": "fe81608f-24c0-4837-b308-4f9f13747b35",
   "metadata": {},
   "outputs": [],
   "source": [
    "#Q12\n",
    "\n",
    "# print(rows)\n",
    "# print(header)\n",
    "# print(header.index(\"B\"))\n",
    "# print([header.index(\"B\")])\n",
    "\n",
    "temp = []\n",
    "for x in rows:\n",
    "    #print(x[header.index(\"B\")])\n",
    "    temp.append(x[header.index(\"B\")])\n",
    "\n",
    "print(sum(temp))\n"
   ]
  },
  {
   "cell_type": "code",
   "execution_count": null,
   "id": "45abab64-b9df-4ba3-8eae-d8d39fa70243",
   "metadata": {},
   "outputs": [],
   "source": [
    "#Q13\n",
    "def get_column_b(row):\n",
    "    print(\"lookup B column for a row\")\n",
    "    return row[header.index(\"B\")]\n",
    "\n",
    "rows.sort(key=get_column_b, reverse=False)\n",
    "print(rows)\n",
    "   \n",
    "#solution in 1 line\n",
    "rows.sort(key=lambda row: row[header.index(\"B\")], reverse=False)\n",
    "print(rows)"
   ]
  },
  {
   "cell_type": "code",
   "execution_count": null,
   "id": "2941a9e8-0374-4428-b3ca-1785ad0e356f",
   "metadata": {},
   "outputs": [],
   "source": [
    "#Q14\n",
    "import json\n",
    "f = open(\"usd.json\")\n",
    "data = f.read()\n",
    "f.close()\n",
    "print(type(data))\n",
    "print(data[:300] + \"...\")\n",
    "\n",
    "data2 = json.loads(data)\n",
    "\n",
    "print(type(data2))\n",
    "print(1000 * data2[\"cad\"][\"rate\"])\n"
   ]
  },
  {
   "cell_type": "code",
   "execution_count": null,
   "id": "95565e86-9985-4a71-b9ae-f1b894846ddd",
   "metadata": {},
   "outputs": [],
   "source": [
    "#Q15\n",
    "nan = float(\"nan\")\n",
    "\n",
    "def divide(x, y):\n",
    "    try:\n",
    "        return x/y\n",
    "    except ZeroDivisionError:\n",
    "        return nan\n",
    "    \n",
    "print(divide(5, 2))\n",
    "print(type(divide(5, 2)))"
   ]
  },
  {
   "cell_type": "code",
   "execution_count": null,
   "id": "0a42d431-162b-4a31-8a91-bb85ca119565",
   "metadata": {},
   "outputs": [],
   "source": [
    "#Q16\n",
    "print(divide(0, 0))\n",
    "print(type(divide(0, 0)))"
   ]
  },
  {
   "cell_type": "code",
   "execution_count": null,
   "id": "69906b41-87e6-49a6-9e13-cf3e2cbeda33",
   "metadata": {},
   "outputs": [],
   "source": [
    "#Q17\n",
    "import os \n",
    "\n",
    "years = {}\n",
    "list_of_years = []\n",
    "\n",
    "data = os.listdir(\"home-computers\")\n",
    "print(data)\n",
    "\n",
    "for x in data:\n",
    "    if x.endswith(\".csv\"):\n",
    "        index = x.index(\".\")\n",
    "        list_of_years.append(x[index - 4 : index])\n",
    "print(list_of_years)\n",
    "list_of_years.sort()\n",
    "print(list_of_years)\n",
    "\n",
    "for x in list_of_years:\n",
    "    years[x] = pandas.read_csv(filepath_or_buffer = \n",
    "                \"home-computers/\" + \"ACSDT5Y\" + x + \".B28001-Data.csv\",\n",
    "                skiprows = 1,).set_index(\"Geographic Area Name\")\n",
    "\n",
    "# for x in list_of_years:\n",
    "#     print(data[data.index()])    \n",
    "# z = pandas.read_csv(filepath_or_buffer = \"home-computers/\" + \"ACSDT5Y2018.B28001-Data.csv\",\n",
    "#                  skiprows = 1)\n",
    "# z\n",
    "# print(years[\"2019\"])\n",
    "\n",
    "for key, value in years.items() :\n",
    "    print(key)\n",
    "    \n",
    "#The keys in years are the years from 2017 to 2021.\n",
    "\n",
    "#should they be sorted or no?\n",
    "#print(years)"
   ]
  },
  {
   "cell_type": "code",
   "execution_count": null,
   "id": "f04a42d2-723d-4441-801c-2a9835dedd99",
   "metadata": {},
   "outputs": [],
   "source": [
    "#Q18\n",
    "\n",
    "df = years[\"2021\"]\n",
    "print(df.at[\"Wisconsin\", \"Estimate!!Total\"])\n",
    "print(df.loc[\"Wisconsin\"][\"Estimate!!Total\"])\n",
    "\n",
    "#also works:\n",
    "#print(years[\"2021\"].at[\"Wisconsin\", \"Estimate!!Total\"])"
   ]
  },
  {
   "cell_type": "code",
   "execution_count": null,
   "id": "b0a6574e-45f5-412e-a1ef-4e633fcd5fd0",
   "metadata": {},
   "outputs": [],
   "source": [
    "#Q19\n",
    "df = years[\"2021\"]\n",
    "\n",
    "#data = df['Estimate!!Total!!No Computer'].tolist()\n",
    "#or\n",
    "x = df['Estimate!!Total!!No Computer'].sum()\n",
    "\n",
    "#statistics.mean(data)\n",
    "#print(sum(data))\n",
    "print(x)"
   ]
  },
  {
   "cell_type": "code",
   "execution_count": null,
   "id": "f8492999-0440-4d6c-aa31-4607e3e93073",
   "metadata": {},
   "outputs": [],
   "source": [
    "#Q20\n",
    "\n",
    "df2 = years[\"2021\"]\n",
    "estimate = df['Estimate!!Total!!No Computer']\n",
    "error = df['Margin of Error!!Total!!No Computer']\n",
    "\n",
    "s3 = (error / estimate).max()\n",
    "s3\n",
    "\n",
    "## do I need to find which country is this??"
   ]
  },
  {
   "cell_type": "code",
   "execution_count": null,
   "id": "0fe0bcd6-5306-4f51-8cb4-4474c5ce7785",
   "metadata": {},
   "outputs": [],
   "source": [
    "#Q21\n",
    "\n",
    "wisco_adj_states = [\"Illinois\", \"Indiana\", \"Iowa\", \"Michigan\", \n",
    "                    \"Minnesota\", \"Wisconsin\"]\n",
    "no_comp_percent = {}\n",
    "df = years[\"2021\"]\n",
    "\n",
    "est_noComp = df['Estimate!!Total!!No Computer']\n",
    "est_total = df[\"Estimate!!Total\"]\n",
    "\n",
    "s4 = est_noComp/est_total * 100\n",
    "\n",
    "for state in wisco_adj_states:\n",
    "    no_comp_percent[state] = s4[state]\n",
    "\n",
    "print(no_comp_percent)"
   ]
  },
  {
   "cell_type": "code",
   "execution_count": null,
   "id": "ead821f4-277d-409f-85c9-a2955f57c223",
   "metadata": {},
   "outputs": [],
   "source": [
    "#Q22\n",
    "import pandas\n",
    "import numpy as np\n",
    "s5 = pandas.Series(no_comp_percent)\n",
    "\n",
    "plot1 = s5.plot.bar()\n",
    "\n",
    "plot1.set_xlabel(\"Geographic Area Name\")\n",
    "plot1.set_ylabel(\"% of Households w/o Computers\")\n",
    "plot1.set_yticks(np.arange(0,11,2))"
   ]
  },
  {
   "cell_type": "code",
   "execution_count": null,
   "id": "04117834-98f8-4d59-ac0d-f38a319be5c1",
   "metadata": {},
   "outputs": [],
   "source": [
    "#Q23\n",
    "import matplotlib.pyplot as plt\n",
    "\n",
    "computers = []\n",
    "for x in list_of_years:\n",
    "    computers.append(years[x].loc[\"Wisconsin\"]['Estimate!!Total!!No Computer']/1000)\n",
    "print(computers)\n",
    "\n",
    "plt.plot(list_of_years, computers)\n",
    "plt.xlabel(\"Year\")\n",
    "plt.ylabel(\"WI Households without Computers (thousands)\")\n",
    "plt.yticks(np.arange(0,400,100))"
   ]
  },
  {
   "cell_type": "code",
   "execution_count": null,
   "id": "82c38d64-c98f-407e-9d78-1e07af8cde26",
   "metadata": {},
   "outputs": [],
   "source": [
    "#Q24\n",
    "\n",
    "df = years[\"2021\"]\n",
    "\n",
    "smartphones = df[\"Estimate!!Total!!Has one or more types of computing devices!!Smartphone\"] / 1000000\n",
    "tablets = df[\"Estimate!!Total!!Has one or more types of computing devices!!Tablet or other portable wireless computer\"]/1000000\n",
    "plt.scatter(smartphones, tablets)\n",
    "plt.xlabel(\"Smartphones (milions)\")\n",
    "plt.ylabel(\"Tablets (milions)\")\n",
    "plt.xticks(np.arange(0,12.5,2.5))"
   ]
  },
  {
   "cell_type": "code",
   "execution_count": null,
   "id": "f43bbed2-062a-42e9-b48f-ca573677c8ec",
   "metadata": {},
   "outputs": [],
   "source": []
  }
 ],
 "metadata": {
  "kernelspec": {
   "display_name": "Python 3 (ipykernel)",
   "language": "python",
   "name": "python3"
  },
  "language_info": {
   "codemirror_mode": {
    "name": "ipython",
    "version": 3
   },
   "file_extension": ".py",
   "mimetype": "text/x-python",
   "name": "python",
   "nbconvert_exporter": "python",
   "pygments_lexer": "ipython3",
   "version": "3.10.12"
  }
 },
 "nbformat": 4,
 "nbformat_minor": 5
}
