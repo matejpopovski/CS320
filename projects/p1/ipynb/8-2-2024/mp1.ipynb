{
  "cells": [
    {
      "cell_type": "code",
      "execution_count": 1,
      "metadata": {
        "colab": {
          "base_uri": "https://localhost:8080/"
        },
        "id": "PFCfNKl7JKQL",
        "outputId": "ef06ba49-7639-426e-b3b6-f8546bb97772"
      },
      "outputs": [
        {
          "output_type": "stream",
          "name": "stdout",
          "text": [
            "Mounted at /content/drive\n",
            "/content/drive/MyDrive/MATEJ/cs320/s22/p1_new\n"
          ]
        }
      ],
      "source": [
        "from google.colab import drive\n",
        "drive.mount('/content/drive')\n",
        "%cd /content/drive/MyDrive/MATEJ/cs320/s22/p1_new"
      ],
      "id": "PFCfNKl7JKQL"
    },
    {
      "cell_type": "code",
      "execution_count": 2,
      "metadata": {
        "id": "b2dc3813-280f-4a8d-b462-7222b00d6aae"
      },
      "outputs": [],
      "source": [
        "# project: p1\n",
        "# submitter: popovski\n",
        "# partner: none\n",
        "# hours: 3"
      ],
      "id": "b2dc3813-280f-4a8d-b462-7222b00d6aae"
    },
    {
      "cell_type": "code",
      "execution_count": 3,
      "metadata": {
        "id": "d2c82652-b15c-4818-9819-740dc6129a89"
      },
      "outputs": [],
      "source": [
        "# import statements\n",
        "import copy\n",
        "import json\n",
        "import os\n",
        "import pandas\n",
        "import numpy as np\n",
        "import subprocess\n",
        "import time\n",
        "import matplotlib.pyplot as plt\n",
        "import re\n",
        "from collections import defaultdict"
      ],
      "id": "d2c82652-b15c-4818-9819-740dc6129a89"
    },
    {
      "cell_type": "code",
      "execution_count": 4,
      "metadata": {
        "colab": {
          "base_uri": "https://localhost:8080/"
        },
        "id": "23aaa222-68b2-494d-966c-835d65428cad",
        "outputId": "da6ca4e2-5d5e-4243-d5c1-916321d03d12"
      },
      "outputs": [
        {
          "output_type": "execute_result",
          "data": {
            "text/plain": [
              "float"
            ]
          },
          "metadata": {},
          "execution_count": 4
        }
      ],
      "source": [
        "#Q1\n",
        "\n",
        "type(8/3)"
      ],
      "id": "23aaa222-68b2-494d-966c-835d65428cad"
    },
    {
      "cell_type": "code",
      "execution_count": 5,
      "metadata": {
        "colab": {
          "base_uri": "https://localhost:8080/"
        },
        "id": "1742250f-f2bb-42de-a465-57fa9faa6f31",
        "outputId": "7d1a03a4-5670-41c7-d35b-e02d1a421d00"
      },
      "outputs": [
        {
          "output_type": "execute_result",
          "data": {
            "text/plain": [
              "True"
            ]
          },
          "metadata": {},
          "execution_count": 5
        }
      ],
      "source": [
        "#Q2\n",
        "\n",
        "x = 4\n",
        "maximum = 15\n",
        "minimum = 5\n",
        "\n",
        "error = x <= minimum or x>= maximum # False if x is inside the minimum-to-maximum range\n",
        "error"
      ],
      "id": "1742250f-f2bb-42de-a465-57fa9faa6f31"
    },
    {
      "cell_type": "code",
      "execution_count": 6,
      "metadata": {
        "colab": {
          "base_uri": "https://localhost:8080/"
        },
        "id": "67f2864b-55ae-4a75-a83d-a0b5339de096",
        "outputId": "cc2378a5-5c73-4af9-c92f-c29071ba9e5b"
      },
      "outputs": [
        {
          "output_type": "execute_result",
          "data": {
            "text/plain": [
              "True"
            ]
          },
          "metadata": {},
          "execution_count": 6
        }
      ],
      "source": [
        "#Q3\n",
        "\n",
        "word = \"QUOTIDIAN\"\n",
        "suffix_match = True if word[len(word)-3:] == 'IAN' else False # .endswith(...) method not allowed for this question! (practice slicing)\n",
        "suffix_match"
      ],
      "id": "67f2864b-55ae-4a75-a83d-a0b5339de096"
    },
    {
      "cell_type": "code",
      "execution_count": 7,
      "metadata": {
        "colab": {
          "base_uri": "https://localhost:8080/"
        },
        "id": "6cd21152-6670-4c0f-894e-0dfdc2f18877",
        "outputId": "d9077cf0-66ef-407c-f3b4-3e78b5ab6aa8"
      },
      "outputs": [
        {
          "output_type": "execute_result",
          "data": {
            "text/plain": [
              "False"
            ]
          },
          "metadata": {},
          "execution_count": 7
        }
      ],
      "source": [
        "#Q4\n",
        "\n",
        "def check_sum(x=0 , y=0, sum1 = 0):\n",
        "    if x + y == sum1:\n",
        "        return True\n",
        "    else:\n",
        "        return False\n",
        "\n",
        "check_sum(0.1, 0.2, 0.3)"
      ],
      "id": "6cd21152-6670-4c0f-894e-0dfdc2f18877"
    },
    {
      "cell_type": "code",
      "execution_count": 8,
      "metadata": {
        "colab": {
          "base_uri": "https://localhost:8080/"
        },
        "id": "dd37c845-1a92-4369-a643-0e74610d5a67",
        "outputId": "b808d208-b653-40ab-fdcc-9ac2dbc4c67d"
      },
      "outputs": [
        {
          "output_type": "execute_result",
          "data": {
            "text/plain": [
              "True"
            ]
          },
          "metadata": {},
          "execution_count": 8
        }
      ],
      "source": [
        "#Q5\n",
        "\n",
        "check_sum(-1, 1)"
      ],
      "id": "dd37c845-1a92-4369-a643-0e74610d5a67"
    },
    {
      "cell_type": "code",
      "execution_count": 9,
      "metadata": {
        "colab": {
          "base_uri": "https://localhost:8080/",
          "height": 35
        },
        "id": "1a360a5a-a64b-4638-be28-13f1cc981d46",
        "outputId": "9cdbec6f-1bb8-4a13-a9a8-ab5a582a0576"
      },
      "outputs": [
        {
          "output_type": "execute_result",
          "data": {
            "text/plain": [
              "'even'"
            ],
            "application/vnd.google.colaboratory.intrinsic+json": {
              "type": "string"
            }
          },
          "metadata": {},
          "execution_count": 9
        }
      ],
      "source": [
        "#Q6\n",
        "\n",
        "x = 4\n",
        "if x%2 == 1:\n",
        "    status = \"odd\"\n",
        "elif x%2 == 0:\n",
        "    status = \"even\"\n",
        "else:\n",
        "    status = \"non-integer\"\n",
        "status\n"
      ],
      "id": "1a360a5a-a64b-4638-be28-13f1cc981d46"
    },
    {
      "cell_type": "code",
      "execution_count": 10,
      "metadata": {
        "colab": {
          "base_uri": "https://localhost:8080/"
        },
        "id": "31214905-3cc1-413a-a54a-859752f185c4",
        "outputId": "78af99d0-adb6-4cd7-cd6c-6dc3c68544d4"
      },
      "outputs": [
        {
          "output_type": "execute_result",
          "data": {
            "text/plain": [
              "0"
            ]
          },
          "metadata": {},
          "execution_count": 10
        }
      ],
      "source": [
        "#Q7\n",
        "\n",
        "nums = [3, 4, 1, 6]\n",
        "\n",
        "def neg_sum(list1):\n",
        "    sum1 = 0\n",
        "    for x in list1:\n",
        "      if x > 0:\n",
        "        continue\n",
        "      elif sum1 < -20:\n",
        "        continue\n",
        "      else:\n",
        "        sum1 = sum1 + x\n",
        "    return sum1\n",
        "\n",
        "neg_sum(nums)"
      ],
      "id": "31214905-3cc1-413a-a54a-859752f185c4"
    },
    {
      "cell_type": "code",
      "execution_count": 11,
      "metadata": {
        "colab": {
          "base_uri": "https://localhost:8080/"
        },
        "id": "7916aead-1bf5-40c7-851b-fcff799d7e2b",
        "outputId": "ce2d016d-6330-46b3-d9f5-d52d180d3ba6"
      },
      "outputs": [
        {
          "output_type": "execute_result",
          "data": {
            "text/plain": [
              "-22"
            ]
          },
          "metadata": {},
          "execution_count": 11
        }
      ],
      "source": [
        "#Q8\n",
        "\n",
        "neg_sum([-5, 1, -11, -6, 15, -1, 8, 2])"
      ],
      "id": "7916aead-1bf5-40c7-851b-fcff799d7e2b"
    },
    {
      "cell_type": "code",
      "execution_count": 12,
      "metadata": {
        "colab": {
          "base_uri": "https://localhost:8080/"
        },
        "id": "9194b1bc-ef5e-460f-969c-d81a949d9638",
        "outputId": "d4d39807-0677-4746-d00f-c2b276dcd0fa"
      },
      "outputs": [
        {
          "output_type": "execute_result",
          "data": {
            "text/plain": [
              "[[1, 6, 7, 8, {'x': 8, 'y': 5}],\n",
              " [3, 4, 9, {'x': 9, 'y': 2, 'z': 4}],\n",
              " [5, 2, {'x': 3, 'y': 1, 'z': 7, 'w': 6}]]"
            ]
          },
          "metadata": {},
          "execution_count": 12
        }
      ],
      "source": [
        "#Q9\n",
        "\n",
        "header = [\"A\", \"B\", \"C\"]\n",
        "\n",
        "coord1 = {\"x\": 8, \"y\": 5}\n",
        "coord2 = {\"x\": 9, \"y\": 2, \"z\" : 4}\n",
        "coord3 = {\"x\": 3, \"y\": 1, \"z\" : 7}\n",
        "\n",
        "rows = [\n",
        "    [1, 6, 7, 8, coord1],\n",
        "    [3, 4, 9, coord2],\n",
        "    [5, 2, coord3],\n",
        "]\n",
        "\n",
        "coord3[\"w\"] = 6\n",
        "rows"
      ],
      "id": "9194b1bc-ef5e-460f-969c-d81a949d9638"
    },
    {
      "cell_type": "code",
      "execution_count": 13,
      "metadata": {
        "colab": {
          "base_uri": "https://localhost:8080/"
        },
        "id": "f71fa270-9664-4d17-a680-74394e365f98",
        "outputId": "b561efa6-b5ea-4c4d-9051-b2fb50050c8e"
      },
      "outputs": [
        {
          "output_type": "execute_result",
          "data": {
            "text/plain": [
              "8"
            ]
          },
          "metadata": {},
          "execution_count": 13
        }
      ],
      "source": [
        "#Q10\n",
        "\n",
        "rows[0][-1][\"x\"]"
      ],
      "id": "f71fa270-9664-4d17-a680-74394e365f98"
    },
    {
      "cell_type": "code",
      "execution_count": 14,
      "metadata": {
        "colab": {
          "base_uri": "https://localhost:8080/"
        },
        "id": "593c5606-9484-422d-b1fe-1d5fe155fcad",
        "outputId": "a093f4c9-a890-41f8-d1a7-b605c302e87a"
      },
      "outputs": [
        {
          "output_type": "execute_result",
          "data": {
            "text/plain": [
              "[[1, 6, 7, 8, {'x': 8, 'y': 5}],\n",
              " [3, 404, 9, {'x': 9, 'y': 2, 'z': 4}],\n",
              " [5, 2, {'x': 3, 'y': 1, 'z': 7, 'w': 6}]]"
            ]
          },
          "metadata": {},
          "execution_count": 14
        }
      ],
      "source": [
        "#Q11\n",
        "\n",
        "v2 = copy.copy(rows)\n",
        "v2[0] = 404    # first change\n",
        "v2[1][1] = 404 # second change\n",
        "rows"
      ],
      "id": "593c5606-9484-422d-b1fe-1d5fe155fcad"
    },
    {
      "cell_type": "code",
      "execution_count": 15,
      "metadata": {
        "colab": {
          "base_uri": "https://localhost:8080/"
        },
        "id": "fe81608f-24c0-4837-b308-4f9f13747b35",
        "outputId": "04a59dd9-6f58-45de-aead-05d2a4b87d30"
      },
      "outputs": [
        {
          "output_type": "execute_result",
          "data": {
            "text/plain": [
              "412"
            ]
          },
          "metadata": {},
          "execution_count": 15
        }
      ],
      "source": [
        "#Q12\n",
        "\n",
        "temp = []\n",
        "for x in rows:\n",
        "    #print(x[header.index(\"B\")])\n",
        "    temp.append(x[header.index(\"B\")])\n",
        "\n",
        "sum(temp)"
      ],
      "id": "fe81608f-24c0-4837-b308-4f9f13747b35"
    },
    {
      "cell_type": "code",
      "execution_count": 16,
      "metadata": {
        "colab": {
          "base_uri": "https://localhost:8080/"
        },
        "id": "45abab64-b9df-4ba3-8eae-d8d39fa70243",
        "outputId": "e8614b61-bc5d-4674-db49-f2c95bc855ed"
      },
      "outputs": [
        {
          "output_type": "execute_result",
          "data": {
            "text/plain": [
              "[[5, 2, {'x': 3, 'y': 1, 'z': 7, 'w': 6}],\n",
              " [1, 6, 7, 8, {'x': 8, 'y': 5}],\n",
              " [3, 404, 9, {'x': 9, 'y': 2, 'z': 4}]]"
            ]
          },
          "metadata": {},
          "execution_count": 16
        }
      ],
      "source": [
        "#Q13\n",
        "\n",
        "rows.sort(key=lambda row: row[header.index(\"B\")], reverse=False)\n",
        "rows"
      ],
      "id": "45abab64-b9df-4ba3-8eae-d8d39fa70243"
    },
    {
      "cell_type": "code",
      "execution_count": 17,
      "metadata": {
        "colab": {
          "base_uri": "https://localhost:8080/"
        },
        "id": "2941a9e8-0374-4428-b3ca-1785ad0e356f",
        "outputId": "ff7de3b1-d0e2-4d5c-b9c1-2e45c943a1eb"
      },
      "outputs": [
        {
          "output_type": "execute_result",
          "data": {
            "text/plain": [
              "1347.0778893177"
            ]
          },
          "metadata": {},
          "execution_count": 17
        }
      ],
      "source": [
        "#Q14\n",
        "\n",
        "f = open(\"usd.json\")\n",
        "data = json.load(f)\n",
        "f.close()\n",
        "\n",
        "usd = 1000\n",
        "eqv_cad = data['cad']['rate'] * usd\n",
        "eqv_cad"
      ],
      "id": "2941a9e8-0374-4428-b3ca-1785ad0e356f"
    },
    {
      "cell_type": "code",
      "execution_count": 18,
      "metadata": {
        "colab": {
          "base_uri": "https://localhost:8080/"
        },
        "id": "95565e86-9985-4a71-b9ae-f1b894846ddd",
        "outputId": "6f2d9673-bb07-44b1-e4ef-6b00ba6d4ade"
      },
      "outputs": [
        {
          "output_type": "execute_result",
          "data": {
            "text/plain": [
              "2.5"
            ]
          },
          "metadata": {},
          "execution_count": 18
        }
      ],
      "source": [
        "#Q15\n",
        "\n",
        "def divide(x, y):\n",
        "    try:\n",
        "        return x/y\n",
        "    except ZeroDivisionError:\n",
        "        return float('nan')\n",
        "\n",
        "divide(5, 2)"
      ],
      "id": "95565e86-9985-4a71-b9ae-f1b894846ddd"
    },
    {
      "cell_type": "code",
      "execution_count": 19,
      "metadata": {
        "colab": {
          "base_uri": "https://localhost:8080/"
        },
        "id": "0a42d431-162b-4a31-8a91-bb85ca119565",
        "outputId": "a2712570-c422-46ea-8f0d-1491cc9bb451"
      },
      "outputs": [
        {
          "output_type": "execute_result",
          "data": {
            "text/plain": [
              "nan"
            ]
          },
          "metadata": {},
          "execution_count": 19
        }
      ],
      "source": [
        "#Q16\n",
        "\n",
        "divide(0, 0)"
      ],
      "id": "0a42d431-162b-4a31-8a91-bb85ca119565"
    },
    {
      "cell_type": "code",
      "execution_count": 20,
      "metadata": {
        "colab": {
          "base_uri": "https://localhost:8080/"
        },
        "id": "69906b41-87e6-49a6-9e13-cf3e2cbeda33",
        "outputId": "e045768e-c3f2-43ba-d0e8-d06e6a3b8e7e"
      },
      "outputs": [
        {
          "output_type": "execute_result",
          "data": {
            "text/plain": [
              "[2017, 2018, 2019, 2020, 2021]"
            ]
          },
          "metadata": {},
          "execution_count": 20
        }
      ],
      "source": [
        "#Q17\n",
        "\n",
        "years={}\n",
        "csv_dir = 'home-computers'\n",
        "csv_files = os.listdir(csv_dir)\n",
        "\n",
        "for each in csv_files:\n",
        "    if each.endswith(\".csv\"):\n",
        "        index = each.index('.')\n",
        "        year = int(each[index - 4 : index])\n",
        "        df = pandas.read_csv(os.path.join(csv_dir, each), skiprows=1).set_index(\"Geographic Area Name\")\n",
        "        years[year] = df\n",
        "\n",
        "sorted(years.keys())"
      ],
      "id": "69906b41-87e6-49a6-9e13-cf3e2cbeda33"
    },
    {
      "cell_type": "code",
      "execution_count": 21,
      "metadata": {
        "colab": {
          "base_uri": "https://localhost:8080/"
        },
        "id": "f04a42d2-723d-4441-801c-2a9835dedd99",
        "outputId": "2f516ea7-917e-418e-daa4-b3611a225370"
      },
      "outputs": [
        {
          "output_type": "execute_result",
          "data": {
            "text/plain": [
              "2401818"
            ]
          },
          "metadata": {},
          "execution_count": 21
        }
      ],
      "source": [
        "#Q18\n",
        "\n",
        "df = years[2021]\n",
        "# print(df.at[\"Wisconsin\", \"Estimate!!Total\"])\n",
        "df.loc[\"Wisconsin\"][\"Estimate!!Total\"]"
      ],
      "id": "f04a42d2-723d-4441-801c-2a9835dedd99"
    },
    {
      "cell_type": "code",
      "execution_count": 22,
      "metadata": {
        "colab": {
          "base_uri": "https://localhost:8080/"
        },
        "id": "b0a6574e-45f5-412e-a1ef-4e633fcd5fd0",
        "outputId": "9d84c006-5ff5-43a4-bbf9-ce9ef256e091"
      },
      "outputs": [
        {
          "output_type": "execute_result",
          "data": {
            "text/plain": [
              "8902093"
            ]
          },
          "metadata": {},
          "execution_count": 22
        }
      ],
      "source": [
        "#Q19\n",
        "\n",
        "df = years[2021]\n",
        "df['Estimate!!Total!!No Computer'].sum()"
      ],
      "id": "b0a6574e-45f5-412e-a1ef-4e633fcd5fd0"
    },
    {
      "cell_type": "code",
      "execution_count": 23,
      "metadata": {
        "colab": {
          "base_uri": "https://localhost:8080/"
        },
        "id": "f8492999-0440-4d6c-aa31-4607e3e93073",
        "outputId": "ed847201-e864-4bcd-8a5f-6e9fdb11127a"
      },
      "outputs": [
        {
          "output_type": "execute_result",
          "data": {
            "text/plain": [
              "0.07836701790752577"
            ]
          },
          "metadata": {},
          "execution_count": 23
        }
      ],
      "source": [
        "#Q20\n",
        "\n",
        "df = years[2021]\n",
        "estimate = df['Estimate!!Total!!No Computer']\n",
        "error = df['Margin of Error!!Total!!No Computer']\n",
        "\n",
        "s3 = (error / estimate).max()\n",
        "s3"
      ],
      "id": "f8492999-0440-4d6c-aa31-4607e3e93073"
    },
    {
      "cell_type": "code",
      "execution_count": 24,
      "metadata": {
        "colab": {
          "base_uri": "https://localhost:8080/"
        },
        "id": "0fe0bcd6-5306-4f51-8cb4-4474c5ce7785",
        "outputId": "981551fc-4db3-493c-9951-5993e1579f31"
      },
      "outputs": [
        {
          "output_type": "execute_result",
          "data": {
            "text/plain": [
              "{'Illinois': 7.351100500886871,\n",
              " 'Indiana': 8.300995843439395,\n",
              " 'Iowa': 8.302263591069158,\n",
              " 'Michigan': 7.579772219831928,\n",
              " 'Minnesota': 6.1777398950248985,\n",
              " 'Wisconsin': 8.029750797104526}"
            ]
          },
          "metadata": {},
          "execution_count": 24
        }
      ],
      "source": [
        "#Q21\n",
        "\n",
        "wisco_adj_states = [\"Illinois\", \"Indiana\", \"Iowa\", \"Michigan\",\n",
        "                    \"Minnesota\", \"Wisconsin\"]\n",
        "no_comp_percent = {}\n",
        "df = years[2021]\n",
        "\n",
        "est_noComp = df['Estimate!!Total!!No Computer']\n",
        "est_total = df[\"Estimate!!Total\"]\n",
        "\n",
        "s4 = est_noComp/est_total * 100\n",
        "\n",
        "for state in wisco_adj_states:\n",
        "    no_comp_percent[state] = s4[state]\n",
        "\n",
        "no_comp_percent"
      ],
      "id": "0fe0bcd6-5306-4f51-8cb4-4474c5ce7785"
    },
    {
      "cell_type": "code",
      "execution_count": 25,
      "metadata": {
        "colab": {
          "base_uri": "https://localhost:8080/",
          "height": 617
        },
        "id": "ead821f4-277d-409f-85c9-a2955f57c223",
        "outputId": "a8b16149-9234-45bd-d2d7-0a6bf4593ea8"
      },
      "outputs": [
        {
          "output_type": "execute_result",
          "data": {
            "text/plain": [
              "[<matplotlib.axis.YTick at 0x7ef5ef7461d0>,\n",
              " <matplotlib.axis.YTick at 0x7ef5ef745b70>,\n",
              " <matplotlib.axis.YTick at 0x7ef5ef82d6c0>,\n",
              " <matplotlib.axis.YTick at 0x7ef5ef7e14e0>,\n",
              " <matplotlib.axis.YTick at 0x7ef5ef7e1f90>,\n",
              " <matplotlib.axis.YTick at 0x7ef5ef7e29e0>]"
            ]
          },
          "metadata": {},
          "execution_count": 25
        },
        {
          "output_type": "display_data",
          "data": {
            "text/plain": [
              "<Figure size 640x480 with 1 Axes>"
            ],
            "image/png": "[encoded data removed]"
          },
          "metadata": {}
        }
      ],
      "source": [
        "#Q22\n",
        "\n",
        "s5 = pandas.Series(no_comp_percent)\n",
        "plot1 = s5.plot.bar(xlabel='Geographic Area Name', ylabel='% of Households w/o Computers')\n",
        "plot1.set_yticks(np.arange(0,11,2))"
      ],
      "id": "ead821f4-277d-409f-85c9-a2955f57c223"
    },
    {
      "cell_type": "code",
      "execution_count": 26,
      "metadata": {
        "colab": {
          "base_uri": "https://localhost:8080/",
          "height": 536
        },
        "id": "-1Lkd3ZCtbsh",
        "outputId": "3afee405-4c8b-4b6d-adf3-f29b15a67af5"
      },
      "outputs": [
        {
          "output_type": "execute_result",
          "data": {
            "text/plain": [
              "[<matplotlib.axis.XTick at 0x7ef5ed682b90>,\n",
              " <matplotlib.axis.XTick at 0x7ef5ed682b60>,\n",
              " <matplotlib.axis.XTick at 0x7ef5ed6a6650>,\n",
              " <matplotlib.axis.XTick at 0x7ef5ed6a72b0>,\n",
              " <matplotlib.axis.XTick at 0x7ef5ed6a7d60>]"
            ]
          },
          "metadata": {},
          "execution_count": 26
        },
        {
          "output_type": "display_data",
          "data": {
            "text/plain": [
              "<Figure size 640x480 with 1 Axes>"
            ],
            "image/png": "[encoded data removed]"
          },
          "metadata": {}
        }
      ],
      "source": [
        "#Q23\n",
        "\n",
        "wisc_no_computer={}\n",
        "for year in sorted(years.keys()):\n",
        "    wisc_no_computer[year] = years[year].loc[\"Wisconsin\"]['Estimate!!Total!!No Computer'] / 1e3\n",
        "s = pandas.Series(data=wisc_no_computer)\n",
        "plot2 = s.plot(xlabel = 'Year', ylabel = 'WI Households without\\nComputers (thoudsands)', ylim=0)\n",
        "plot2.set_yticks(np.arange(0,400,100))\n",
        "plot2.set_xticks(np.arange(2017,2022,1))"
      ],
      "id": "-1Lkd3ZCtbsh"
    },
    {
      "cell_type": "code",
      "execution_count": 27,
      "metadata": {
        "colab": {
          "base_uri": "https://localhost:8080/",
          "height": 466
        },
        "id": "82c38d64-c98f-407e-9d78-1e07af8cde26",
        "outputId": "5878362c-ed49-41f1-eef1-5c5f1b28ea98"
      },
      "outputs": [
        {
          "output_type": "execute_result",
          "data": {
            "text/plain": [
              "<Axes: xlabel='Smartphones (millions)', ylabel='Tablets (millions)'>"
            ]
          },
          "metadata": {},
          "execution_count": 27
        },
        {
          "output_type": "display_data",
          "data": {
            "text/plain": [
              "<Figure size 640x480 with 1 Axes>"
            ],
            "image/png": "[encoded data removed]"
          },
          "metadata": {}
        }
      ],
      "source": [
        "#Q24\n",
        "\n",
        "df = years[2021]\n",
        "smartphones = df[\"Estimate!!Total!!Has one or more types of computing devices!!Smartphone\"] / 1e6\n",
        "tablets = df[\"Estimate!!Total!!Has one or more types of computing devices!!Tablet or other portable wireless computer\"] / 1e6\n",
        "s = pandas.DataFrame(data={'Smartphones (millions)': smartphones, 'Tablets (millions)': tablets})\n",
        "s.plot.scatter(x='Smartphones (millions)', y='Tablets (millions)')"
      ],
      "id": "82c38d64-c98f-407e-9d78-1e07af8cde26"
    },
    {
      "cell_type": "code",
      "execution_count": 28,
      "metadata": {
        "colab": {
          "base_uri": "https://localhost:8080/",
          "height": 35
        },
        "id": "f43bbed2-062a-42e9-b48f-ca573677c8ec",
        "outputId": "0cd210ec-62fa-42a7-9c68-8afef9d17562"
      },
      "outputs": [
        {
          "output_type": "execute_result",
          "data": {
            "text/plain": [
              "'commit 660994efc761efdfd49ca442b73f6712dc77b6cf'"
            ],
            "application/vnd.google.colaboratory.intrinsic+json": {
              "type": "string"
            }
          },
          "metadata": {},
          "execution_count": 28
        }
      ],
      "source": [
        "#Q25\n",
        "\n",
        "if not os.path.exists('flask'):\n",
        "    subprocess.check_output(['git', 'clone', 'https://github.com/pallets/flask'])\n",
        "\n",
        "log_output = subprocess.check_output(['git', 'log'], cwd='./flask')\n",
        "log_output = str(log_output, 'utf-8').split('\\n')\n",
        "len(log_output)\n",
        "log_output[0]"
      ],
      "id": "f43bbed2-062a-42e9-b48f-ca573677c8ec"
    },
    {
      "cell_type": "code",
      "execution_count": 29,
      "metadata": {
        "colab": {
          "base_uri": "https://localhost:8080/"
        },
        "id": "9lHPCtqz0CJU",
        "outputId": "e8a498c1-cdea-42f9-8863-bf38aaaccfd8"
      },
      "outputs": [
        {
          "output_type": "execute_result",
          "data": {
            "text/plain": [
              "['a9d4ea81da28ee9c894bf9d45adc4cfa9d52fddc',\n",
              " '727c701686c18c4a27ca523eb0c5862d497be24e',\n",
              " '4edec48b74dbb9d571e927b69b24c30ec0624975',\n",
              " '625eba4bb403296a8bbc1e72cc9cf4a5126f6c02',\n",
              " '4aa76212d1be9b17a57249549c2a73fb10b6cda8',\n",
              " '3b36bef2e6165bb4dad73d17f23ee1879e99f497',\n",
              " '44b42e0fbd93d86e0f4e929bda8e5fb63e81035d',\n",
              " '4ec7d2a0d8eac4f915dc0d38a886cd57045bb0c4',\n",
              " 'b15ad394279fc3b7f998fa56857f334a7c0156f6',\n",
              " '33850c0ebd23ae615e6823993d441f46d80b1ff0']"
            ]
          },
          "metadata": {},
          "execution_count": 29
        }
      ],
      "source": [
        "#Q26\n",
        "\n",
        "commit_num=[]\n",
        "for each in log_output:\n",
        "    if each.startswith('commit'):\n",
        "        index = len('commit')+1\n",
        "        commit_num.append(each[index:])\n",
        "\n",
        "commit_num[-10:]"
      ],
      "id": "9lHPCtqz0CJU"
    },
    {
      "cell_type": "code",
      "execution_count": 30,
      "metadata": {
        "id": "kOmt6fkAFOz2",
        "colab": {
          "base_uri": "https://localhost:8080/",
          "height": 174
        },
        "outputId": "301c7414-bf35-407b-f27d-7a645cd71f5f"
      },
      "outputs": [
        {
          "output_type": "execute_result",
          "data": {
            "text/plain": [
              "\"\\n                          // Flask //\\n\\n         because sometimes a pocket knife is not enough\\n\\n\\n    ~ What is Flask?\\n\\n      Flask is a microframework for Python based on Werkzeug\\n      and Jinja2.  It's intended for small scale applications\\n      and was development with best intentions in mind.\\n\\n    ~ Is it ready?\\n\\n      A preview release is out now, and I'm hoping for some\\n      input about what you want from a microframework and\\n      how it should look like.  Consider the API to slightly\\n      improve over time.\\n\\n    ~ What do I need?\\n\\n      Jinja 2.4 and Werkzeug 0.6.1.  `easy_install` will\\n      install them for you if you do `easy_install Flask==dev`.\\n      I encourage you to use a virtualenv.  Check the docs for\\n      complete installation and usage instructions.\\n\\n    ~ Where are the docs?\\n\\n      Go to http://flask.pocoo.org/ for a prebuild version of\\n      the current documentation.  Otherwise build them yourself\\n      from the sphinx sources in the docs folder.\\n\""
            ],
            "application/vnd.google.colaboratory.intrinsic+json": {
              "type": "string"
            }
          },
          "metadata": {},
          "execution_count": 30
        }
      ],
      "source": [
        "#Q27\n",
        "\n",
        "try:\n",
        "    subprocess.check_output(['git', 'checkout', commit_num[-100:][0]], cwd='./flask')\n",
        "except subprocess.CalledProcessError as e:\n",
        "    print(\"Error checking out the commit:\", e)\n",
        "\n",
        "try:\n",
        "    with open('./flask/README', 'r') as file:\n",
        "        readme_contents = file.read()\n",
        "except Exception as e:\n",
        "    print(\"Error reading README file:\", e)\n",
        "\n",
        "log_output_3 = subprocess.call(['git', 'checkout', 'main'], cwd='./flask')\n",
        "readme_contents"
      ],
      "id": "kOmt6fkAFOz2"
    },
    {
      "cell_type": "code",
      "execution_count": 31,
      "metadata": {
        "colab": {
          "base_uri": "https://localhost:8080/"
        },
        "id": "dbFIm_TpN2sA",
        "outputId": "1158a61d-f3d6-447f-b7a8-4dddad8c2f92"
      },
      "outputs": [
        {
          "output_type": "execute_result",
          "data": {
            "text/plain": [
              "{'pallets': 204,\n",
              " 'pgjones': 14,\n",
              " 'greyli': 42,\n",
              " 'ThiefMaster': 11,\n",
              " 'davidism': 45,\n",
              " 'untitaker': 20,\n",
              " 'ThomasWaldmann': 13,\n",
              " 'SimonSapin': 11}"
            ]
          },
          "metadata": {},
          "execution_count": 31
        }
      ],
      "source": [
        "#Q28\n",
        "\n",
        "user_counts = defaultdict(int)\n",
        "merge_pr_pattern = re.compile(r'Merge pull request #[0-9]+ from ([^/]+)/')\n",
        "\n",
        "for line in log_output:\n",
        "    match = merge_pr_pattern.search(line)\n",
        "    if match:\n",
        "        username = match.group(1)\n",
        "        user_counts[username] += 1\n",
        "\n",
        "filtered_users = {user: count for user, count in user_counts.items() if count >= 10}\n",
        "filtered_users"
      ],
      "id": "dbFIm_TpN2sA"
    },
    {
      "cell_type": "code",
      "execution_count": 32,
      "metadata": {
        "colab": {
          "base_uri": "https://localhost:8080/",
          "height": 35
        },
        "id": "I-3RicLAFfqW",
        "outputId": "70083cb5-2336-45eb-c227-f8a29d508cec"
      },
      "outputs": [
        {
          "output_type": "execute_result",
          "data": {
            "text/plain": [
              "'ERROR: unknown command \"instal\" - maybe you meant \"install\"\\n'"
            ],
            "application/vnd.google.colaboratory.intrinsic+json": {
              "type": "string"
            }
          },
          "metadata": {},
          "execution_count": 32
        }
      ],
      "source": [
        "#Q29\n",
        "\n",
        "try:\n",
        "    msg = subprocess.check_output([\"pip3\", \"instal\"], stderr=subprocess.STDOUT)\n",
        "except subprocess.CalledProcessError as e:\n",
        "    msg = e.output\n",
        "\n",
        "output_message = msg.decode()\n",
        "\n",
        "output_message"
      ],
      "id": "I-3RicLAFfqW"
    },
    {
      "cell_type": "code",
      "execution_count": 33,
      "metadata": {
        "colab": {
          "base_uri": "https://localhost:8080/",
          "height": 564
        },
        "id": "xFg4M2j13XnF",
        "outputId": "a1c4a982-2dd7-4d61-8af9-1bfc530392fa"
      },
      "outputs": [
        {
          "output_type": "display_data",
          "data": {
            "text/plain": [
              "<Figure size 1000x600 with 1 Axes>"
            ],
            "image/png": "[encoded data removed]"
          },
          "metadata": {}
        }
      ],
      "source": [
        "#Q30\n",
        "\n",
        "def rand_df(rows):\n",
        "    return pandas.DataFrame(np.random.randint(10, size=(rows, 5)),\n",
        "                        columns=[\"A\", \"B\", \"C\", \"D\", \"E\"],\n",
        "                        index=[f\"r{i}\" for i in range(1, rows+1)])\n",
        "\n",
        "times_df = pandas.DataFrame(dtype=float)\n",
        "row_sizes = [1000, 2000, 3000, 4000, 5000]\n",
        "\n",
        "for rows in row_sizes:\n",
        "    df = rand_df(rows)\n",
        "\n",
        "    start_time = time.time()\n",
        "    for row in df.iterrows():\n",
        "        pass\n",
        "    iterrows_time = (time.time() - start_time) * 1000\n",
        "\n",
        "    start_time = time.time()\n",
        "    for row in df.itertuples():\n",
        "        pass\n",
        "    itertuples_time = (time.time() - start_time) * 1000\n",
        "\n",
        "    times_df.at[rows, \"iterrows\"] = iterrows_time\n",
        "    times_df.at[rows, \"itertuples\"] = itertuples_time\n",
        "\n",
        "plt.figure(figsize=(10, 6))\n",
        "plt.plot(times_df.index, times_df['iterrows'], label='iterrows', color='blue')\n",
        "plt.plot(times_df.index, times_df['itertuples'], label='itertuples', color='orange')\n",
        "plt.xlabel('Rows')\n",
        "plt.ylabel('Milliseconds')\n",
        "plt.title('iterrows vs itertuples Performance')\n",
        "plt.legend()\n",
        "plt.show()"
      ],
      "id": "xFg4M2j13XnF"
    },
    {
      "cell_type": "code",
      "execution_count": 34,
      "metadata": {
        "colab": {
          "base_uri": "https://localhost:8080/",
          "height": 564
        },
        "id": "P4Et0ZnkDGQv",
        "outputId": "bc92aa78-69ed-4339-8e8a-8ec65c4ae124"
      },
      "outputs": [
        {
          "output_type": "display_data",
          "data": {
            "text/plain": [
              "<Figure size 1000x600 with 1 Axes>"
            ],
            "image/png": "[encoded data removed]"
          },
          "metadata": {}
        }
      ],
      "source": [
        "#Q31\n",
        "\n",
        "times_df = pandas.DataFrame(dtype=float)\n",
        "row_sizes = [1000, 2000, 3000, 4000, 5000]\n",
        "\n",
        "for rows in row_sizes:\n",
        "    df = rand_df(rows)\n",
        "\n",
        "    start_time = time.time()\n",
        "    total_loc = 0\n",
        "    for idx in df.index:\n",
        "        for col in df.columns:\n",
        "            total_loc += df.loc[idx, col]\n",
        "    loc_time = (time.time() - start_time) * 1000\n",
        "\n",
        "    start_time = time.time()\n",
        "    total_at = 0\n",
        "    for idx in df.index:\n",
        "        for col in df.columns:\n",
        "            total_at += df.at[idx, col]\n",
        "    at_time = (time.time() - start_time) * 1000\n",
        "\n",
        "    times_df.at[rows, \"loc\"] = loc_time\n",
        "    times_df.at[rows, \"at\"] = at_time\n",
        "\n",
        "plt.figure(figsize=(10, 6))\n",
        "plt.plot(times_df.index, times_df['loc'], label='loc', color='blue')\n",
        "plt.plot(times_df.index, times_df['at'], label='at', color='orange')\n",
        "plt.xlabel('Rows')\n",
        "plt.ylabel('Milliseconds')\n",
        "plt.title('loc vs at Performance')\n",
        "plt.legend()\n",
        "plt.show()"
      ],
      "id": "P4Et0ZnkDGQv"
    },
    {
      "cell_type": "code",
      "execution_count": 35,
      "metadata": {
        "colab": {
          "base_uri": "https://localhost:8080/",
          "height": 564
        },
        "id": "g7Ra256pD0Y0",
        "outputId": "ffb23098-94d3-404f-920e-912fb3e8b817"
      },
      "outputs": [
        {
          "output_type": "display_data",
          "data": {
            "text/plain": [
              "<Figure size 1000x600 with 1 Axes>"
            ],
            "image/png": "[encoded data removed]"
          },
          "metadata": {}
        }
      ],
      "source": [
        "#Q32\n",
        "\n",
        "def laugh(x):\n",
        "    return \"qwerty\" * x\n",
        "\n",
        "times_df = pandas.DataFrame(dtype=float)\n",
        "\n",
        "row_sizes.extend([6000, 8000, 10000, 12000, 14000, 16000, 18000, 20000])\n",
        "\n",
        "for rows in row_sizes:\n",
        "    df = rand_df(rows)\n",
        "\n",
        "    start_time = time.time()\n",
        "    result_apply = df[\"A\"].apply(laugh).tolist()\n",
        "    apply_time = (time.time() - start_time) * 1000\n",
        "\n",
        "    start_time = time.time()\n",
        "    result_loop = []\n",
        "    for val in df[\"A\"]:\n",
        "        result_loop.append(laugh(val))\n",
        "    loop_time = (time.time() - start_time) * 1000\n",
        "\n",
        "    times_df.at[rows, \"apply\"] = apply_time\n",
        "    times_df.at[rows, \"loop\"] = loop_time\n",
        "\n",
        "plt.figure(figsize=(10, 6))\n",
        "plt.plot(times_df.index, times_df['apply'], label='apply', color='blue')\n",
        "plt.plot(times_df.index, times_df['loop'], label='loop', color='orange')\n",
        "plt.xlabel('Rows')\n",
        "plt.ylabel('Milliseconds')\n",
        "plt.title('Loop vs apply Performance')\n",
        "plt.legend()\n",
        "plt.show()"
      ],
      "id": "g7Ra256pD0Y0"
    }
  ],
  "metadata": {
    "colab": {
      "provenance": []
    },
    "kernelspec": {
      "display_name": "Python 3 (ipykernel)",
      "language": "python",
      "name": "python3"
    },
    "language_info": {
      "codemirror_mode": {
        "name": "ipython",
        "version": 3
      },
      "file_extension": ".py",
      "mimetype": "text/x-python",
      "name": "python",
      "nbconvert_exporter": "python",
      "pygments_lexer": "ipython3",
      "version": "3.10.12"
    }
  },
  "nbformat": 4,
  "nbformat_minor": 5
}